{
 "cells": [
  {
   "cell_type": "code",
   "execution_count": 3,
   "id": "5b1689a6-3fa3-4908-a4d1-848f2f9f8180",
   "metadata": {},
   "outputs": [
    {
     "name": "stdout",
     "output_type": "stream",
     "text": [
      "labels.csv generated successfully!\n"
     ]
    }
   ],
   "source": [
    "import os\n",
    "import pandas as pd\n",
    "\n",
    "real_dir = \"D:/Singularity101/dataset-new-n/test/real\"\n",
    "fake_dir = \"D:/Singularity101/dataset-new-n/test/fake\"\n",
    "\n",
    "real_files = os.listdir(real_dir)\n",
    "fake_files = os.listdir(fake_dir)\n",
    "\n",
    "real_data = [(file, 0) for file in real_files]\n",
    "fake_data = [(file, 1) for file in fake_files]\n",
    "\n",
    "data = real_data + fake_data\n",
    "\n",
    "df = pd.DataFrame(data, columns=[\"filename\", \"label\"])\n",
    "\n",
    "df.to_csv(\"D:/Singularity101/dataset-new-n/testlabels.csv\", index=False)\n",
    "\n",
    "print(\"labels.csv generated successfully!\")"
   ]
  },
  {
   "cell_type": "code",
   "execution_count": 4,
   "id": "b1f5f7ba-a526-4832-b99c-2d5226bae06f",
   "metadata": {},
   "outputs": [
    {
     "name": "stdout",
     "output_type": "stream",
     "text": [
      "labels.csv generated successfully!\n"
     ]
    }
   ],
   "source": [
    "import os\n",
    "import pandas as pd\n",
    "\n",
    "real_dir = \"D:/Singularity101/dataset-new-n/val/real\"\n",
    "fake_dir = \"D:/Singularity101/dataset-new-n/val/fake\"\n",
    "\n",
    "real_files = os.listdir(real_dir)\n",
    "fake_files = os.listdir(fake_dir)\n",
    "\n",
    "real_data = [(file, 0) for file in real_files]\n",
    "fake_data = [(file, 1) for file in fake_files]\n",
    "\n",
    "data = real_data + fake_data\n",
    "\n",
    "df = pd.DataFrame(data, columns=[\"filename\", \"label\"])\n",
    "\n",
    "df.to_csv(\"D:/Singularity101/dataset-new-n/vallabels.csv\", index=False)\n",
    "\n",
    "print(\"labels.csv generated successfully!\")"
   ]
  },
  {
   "cell_type": "code",
   "execution_count": 5,
   "id": "cbb3bf2e-04b7-4192-9b4d-2a9a88ae6794",
   "metadata": {},
   "outputs": [
    {
     "name": "stdout",
     "output_type": "stream",
     "text": [
      "labels.csv generated successfully!\n"
     ]
    }
   ],
   "source": [
    "import os\n",
    "import pandas as pd\n",
    "\n",
    "real_dir = \"D:/Singularity101/dataset-new-n/train/real\"\n",
    "fake_dir = \"D:/Singularity101/dataset-new-n/train/fake\"\n",
    "\n",
    "real_files = os.listdir(real_dir)\n",
    "fake_files = os.listdir(fake_dir)\n",
    "\n",
    "real_data = [(file, 0) for file in real_files]\n",
    "fake_data = [(file, 1) for file in fake_files]\n",
    "\n",
    "data = real_data + fake_data\n",
    "\n",
    "df = pd.DataFrame(data, columns=[\"filename\", \"label\"])\n",
    "\n",
    "df.to_csv(\"D:/Singularity101/dataset-new-n/trainlabels.csv\", index=False)\n",
    "\n",
    "print(\"labels.csv generated successfully!\")"
   ]
  },
  {
   "cell_type": "code",
   "execution_count": null,
   "id": "ca13f495-ea33-412c-a919-9f345ef77716",
   "metadata": {},
   "outputs": [],
   "source": []
  }
 ],
 "metadata": {
  "kernelspec": {
   "display_name": "Python 3 (ipykernel)",
   "language": "python",
   "name": "python3"
  },
  "language_info": {
   "codemirror_mode": {
    "name": "ipython",
    "version": 3
   },
   "file_extension": ".py",
   "mimetype": "text/x-python",
   "name": "python",
   "nbconvert_exporter": "python",
   "pygments_lexer": "ipython3",
   "version": "3.12.4"
  }
 },
 "nbformat": 4,
 "nbformat_minor": 5
}
